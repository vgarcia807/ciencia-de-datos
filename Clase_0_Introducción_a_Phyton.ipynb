{
  "nbformat": 4,
  "nbformat_minor": 0,
  "metadata": {
    "colab": {
      "provenance": []
    },
    "kernelspec": {
      "name": "python3",
      "display_name": "Python 3"
    },
    "language_info": {
      "name": "python"
    }
  },
  "cells": [
    {
      "cell_type": "markdown",
      "source": [
        "#Introdución a phyton\n",
        "\n"
      ],
      "metadata": {
        "id": "lb0TxcY5JaKy"
      }
    },
    {
      "cell_type": "markdown",
      "source": [
        "## 1. Tipo de datos\n",
        "* Númericos  (int=enteros, float=decimales)\n",
        "* Booleanos (TRUE - verdadero, FALSE - falso)\n",
        "* Alfanuméricos o cadena de caracteres (\"son todos aquellos que se encuentran entre comillas\" y se conoce como string)\n",
        "* Listas ([])\n",
        "* Diccionarios ({})\n",
        "\n",
        "Comando type(): Con que tipo de datos estamos manejando\n",
        "Cuando tengo doble comillas en un comando abro y cierro con ´´"
      ],
      "metadata": {
        "id": "UCaik_fcKFzf"
      }
    },
    {
      "cell_type": "code",
      "execution_count": null,
      "metadata": {
        "colab": {
          "base_uri": "https://localhost:8080/"
        },
        "id": "qffQbDkVI_-U",
        "outputId": "e9d92922-7063-4736-8151-cac435a41116"
      },
      "outputs": [
        {
          "output_type": "execute_result",
          "data": {
            "text/plain": [
              "int"
            ]
          },
          "metadata": {},
          "execution_count": 4
        }
      ],
      "source": [
        "a=5+3*4\n",
        "type (5+3*4)"
      ]
    },
    {
      "cell_type": "code",
      "source": [
        "##Print es una función que me permite imprimir el resultado\n",
        "print (f\"5+3*4={5+3*4} y es un valor de tipo {type (5+3*4)}\")"
      ],
      "metadata": {
        "colab": {
          "base_uri": "https://localhost:8080/"
        },
        "id": "evJhCR-MMJSW",
        "outputId": "710b8026-a753-4f04-be6b-498574c2059c"
      },
      "execution_count": null,
      "outputs": [
        {
          "output_type": "stream",
          "name": "stdout",
          "text": [
            "5+3*4=17 y es un valor de tipo <class 'int'>\n"
          ]
        }
      ]
    },
    {
      "cell_type": "code",
      "source": [
        "\"5\"+\"2\"*3"
      ],
      "metadata": {
        "colab": {
          "base_uri": "https://localhost:8080/",
          "height": 35
        },
        "id": "U80Dc5a0M47l",
        "outputId": "f7dbb1b9-4b26-495c-e1cf-8778fd8dde67"
      },
      "execution_count": null,
      "outputs": [
        {
          "output_type": "execute_result",
          "data": {
            "text/plain": [
              "'5222'"
            ],
            "application/vnd.google.colaboratory.intrinsic+json": {
              "type": "string"
            }
          },
          "metadata": {},
          "execution_count": 11
        }
      ]
    },
    {
      "cell_type": "code",
      "source": [
        "type (\"5\"+\"2\"*3 )"
      ],
      "metadata": {
        "colab": {
          "base_uri": "https://localhost:8080/"
        },
        "id": "NMAqweq-Nidb",
        "outputId": "397ab40c-609c-433c-b085-1632f7f14cee"
      },
      "execution_count": null,
      "outputs": [
        {
          "output_type": "execute_result",
          "data": {
            "text/plain": [
              "str"
            ]
          },
          "metadata": {},
          "execution_count": 13
        }
      ]
    },
    {
      "cell_type": "code",
      "source": [
        "print (f'\"5\"+\"2\"*3={\"5\"+\"2\"*3} y es un valor de tipo {type (\"5\"+\"2\"*3)}')"
      ],
      "metadata": {
        "colab": {
          "base_uri": "https://localhost:8080/"
        },
        "id": "jozrVYCaNnEU",
        "outputId": "33824a7b-d311-4b1a-b27a-7bcea438d9e2"
      },
      "execution_count": null,
      "outputs": [
        {
          "output_type": "stream",
          "name": "stdout",
          "text": [
            "\"5\"+\"2\"*3=5222 y es un valor de tipo <class 'str'>\n"
          ]
        }
      ]
    },
    {
      "cell_type": "code",
      "source": [
        "2 ** 11 #** potenciación"
      ],
      "metadata": {
        "colab": {
          "base_uri": "https://localhost:8080/"
        },
        "id": "qAHcypDmOy90",
        "outputId": "f2b8d9f0-b8d5-426b-e57a-56ae510a7623"
      },
      "execution_count": null,
      "outputs": [
        {
          "output_type": "execute_result",
          "data": {
            "text/plain": [
              "2048"
            ]
          },
          "metadata": {},
          "execution_count": 18
        }
      ]
    },
    {
      "cell_type": "code",
      "source": [
        "2 ** 11 == 1000"
      ],
      "metadata": {
        "colab": {
          "base_uri": "https://localhost:8080/"
        },
        "id": "KQOqq-b0PFn0",
        "outputId": "b109cf9a-1fc8-4794-c3a4-bf4bfe72028e"
      },
      "execution_count": null,
      "outputs": [
        {
          "output_type": "execute_result",
          "data": {
            "text/plain": [
              "False"
            ]
          },
          "metadata": {},
          "execution_count": 20
        }
      ]
    },
    {
      "cell_type": "code",
      "source": [
        "2 ** 9 == 100"
      ],
      "metadata": {
        "colab": {
          "base_uri": "https://localhost:8080/"
        },
        "id": "eHB3HAPJPPET",
        "outputId": "648ada96-d5c2-4d95-e40a-dc41049e1ab7"
      },
      "execution_count": null,
      "outputs": [
        {
          "output_type": "execute_result",
          "data": {
            "text/plain": [
              "False"
            ]
          },
          "metadata": {},
          "execution_count": 23
        }
      ]
    },
    {
      "cell_type": "code",
      "source": [
        "##Operadores lógicos\n",
        "##y - and: CONJUNCIÓN. Algo es verdadero, si ambas preposiones son verdaderas\n",
        "##o - or: DISYUNCIÓN: Una preposición es verdadera, si ambas preposiciones son verdaderas\n",
        "##no - not: NEGACIÓN: Altera el valor de verdad de la preposición\n",
        "2 ** 11 == 1000 or 2 ** 9 == 100"
      ],
      "metadata": {
        "colab": {
          "base_uri": "https://localhost:8080/"
        },
        "id": "JXetdK25PXqD",
        "outputId": "cc0e5774-5d44-4a78-c750-d7dff3604179"
      },
      "execution_count": null,
      "outputs": [
        {
          "output_type": "execute_result",
          "data": {
            "text/plain": [
              "False"
            ]
          },
          "metadata": {},
          "execution_count": 25
        }
      ]
    },
    {
      "cell_type": "code",
      "source": [
        "## = asignar. == COMPARAR\n",
        "type (2 ** 11 == 1000 or 2 ** 9 == 100)"
      ],
      "metadata": {
        "colab": {
          "base_uri": "https://localhost:8080/"
        },
        "id": "z6SzLIXXQEuw",
        "outputId": "28e3a0ba-12f8-4568-d7ff-ebd8b5d59d45"
      },
      "execution_count": null,
      "outputs": [
        {
          "output_type": "execute_result",
          "data": {
            "text/plain": [
              "bool"
            ]
          },
          "metadata": {},
          "execution_count": 30
        }
      ]
    },
    {
      "cell_type": "code",
      "source": [
        "print (f\"2 ** 11 == 1000 or 2 ** 9 == 100={2 ** 11 == 1000 or 2 ** 9 == 100} y es un valor de tipo {type (2 ** 11 == 1000 or 2 ** 9 == 100)}\")"
      ],
      "metadata": {
        "colab": {
          "base_uri": "https://localhost:8080/"
        },
        "id": "FJi2hCXUQ1ni",
        "outputId": "09ee9fbf-2abe-4768-d85b-3f9f477151f4"
      },
      "execution_count": null,
      "outputs": [
        {
          "output_type": "stream",
          "name": "stdout",
          "text": [
            "2 ** 11 == 1000 or 2 ** 9 == 100=False y es un valor de tipo <class 'bool'>\n"
          ]
        }
      ]
    },
    {
      "cell_type": "code",
      "source": [
        "int (\"cincuenta\")"
      ],
      "metadata": {
        "colab": {
          "base_uri": "https://localhost:8080/",
          "height": 141
        },
        "id": "P1zLI57YRMVy",
        "outputId": "b1de4250-c3d8-4968-c1cf-c81c1c2a11ab"
      },
      "execution_count": null,
      "outputs": [
        {
          "output_type": "error",
          "ename": "ValueError",
          "evalue": "invalid literal for int() with base 10: 'cincuenta'",
          "traceback": [
            "\u001b[0;31m---------------------------------------------------------------------------\u001b[0m",
            "\u001b[0;31mValueError\u001b[0m                                Traceback (most recent call last)",
            "\u001b[0;32m<ipython-input-34-566876d0df05>\u001b[0m in \u001b[0;36m<cell line: 1>\u001b[0;34m()\u001b[0m\n\u001b[0;32m----> 1\u001b[0;31m \u001b[0mint\u001b[0m \u001b[0;34m(\u001b[0m\u001b[0;34m\"cincuenta\"\u001b[0m\u001b[0;34m)\u001b[0m\u001b[0;34m\u001b[0m\u001b[0;34m\u001b[0m\u001b[0m\n\u001b[0m",
            "\u001b[0;31mValueError\u001b[0m: invalid literal for int() with base 10: 'cincuenta'"
          ]
        }
      ]
    },
    {
      "cell_type": "code",
      "source": [
        "int (\"50\")"
      ],
      "metadata": {
        "colab": {
          "base_uri": "https://localhost:8080/"
        },
        "id": "AoWaovpCRSt4",
        "outputId": "b986725b-dcd6-47ab-82d6-2a04dfc54aa0"
      },
      "execution_count": null,
      "outputs": [
        {
          "output_type": "execute_result",
          "data": {
            "text/plain": [
              "50"
            ]
          },
          "metadata": {},
          "execution_count": 36
        }
      ]
    },
    {
      "cell_type": "code",
      "source": [
        "type (16/16 + 384/24)"
      ],
      "metadata": {
        "colab": {
          "base_uri": "https://localhost:8080/"
        },
        "id": "SQViVM7nRigD",
        "outputId": "2d7ed40a-9f78-417d-bea6-9f01d944d2b1"
      },
      "execution_count": null,
      "outputs": [
        {
          "output_type": "execute_result",
          "data": {
            "text/plain": [
              "float"
            ]
          },
          "metadata": {},
          "execution_count": 41
        }
      ]
    },
    {
      "cell_type": "code",
      "source": [
        "print (f\"16/16 + 384/24={16/16 + 384/24} y es un valor de tipo {type (16/16 + 384/24)}\")"
      ],
      "metadata": {
        "colab": {
          "base_uri": "https://localhost:8080/"
        },
        "id": "Yp7TNuzUR6xy",
        "outputId": "8b25ff5b-6420-4e08-c645-1b1e443eb7f9"
      },
      "execution_count": null,
      "outputs": [
        {
          "output_type": "stream",
          "name": "stdout",
          "text": [
            "16/16 + 384/24=17.0 y es un valor de tipo <class 'float'>\n"
          ]
        }
      ]
    },
    {
      "cell_type": "code",
      "source": [
        "## El % en phyton es módulo. Error de tipo sintaxis. La ecuación está incompleta\n",
        "600 + 18%"
      ],
      "metadata": {
        "colab": {
          "base_uri": "https://localhost:8080/",
          "height": 106
        },
        "id": "OrJw7Cf-SdOo",
        "outputId": "624dfb5e-ba2b-448d-dfb6-1ba3f60d79d0"
      },
      "execution_count": null,
      "outputs": [
        {
          "output_type": "error",
          "ename": "SyntaxError",
          "evalue": "invalid syntax (<ipython-input-47-3fa1465c3e3e>, line 2)",
          "traceback": [
            "\u001b[0;36m  File \u001b[0;32m\"<ipython-input-47-3fa1465c3e3e>\"\u001b[0;36m, line \u001b[0;32m2\u001b[0m\n\u001b[0;31m    600 + 18%\u001b[0m\n\u001b[0m             ^\u001b[0m\n\u001b[0;31mSyntaxError\u001b[0m\u001b[0;31m:\u001b[0m invalid syntax\n"
          ]
        }
      ]
    },
    {
      "cell_type": "code",
      "source": [
        "0 < (4096 % 10) < 6"
      ],
      "metadata": {
        "colab": {
          "base_uri": "https://localhost:8080/"
        },
        "id": "0qGlEM2kTAT4",
        "outputId": "0fad6b22-c38a-41ed-fc3e-6471d3ee5879"
      },
      "execution_count": null,
      "outputs": [
        {
          "output_type": "execute_result",
          "data": {
            "text/plain": [
              "False"
            ]
          },
          "metadata": {},
          "execution_count": 49
        }
      ]
    },
    {
      "cell_type": "code",
      "source": [
        "print (f\"0 < (4096 % 10) < 6={0 < (4096 % 10) < 6} y es un valor de tipo {type (0 < (4096 % 10) < 6)}\")"
      ],
      "metadata": {
        "colab": {
          "base_uri": "https://localhost:8080/"
        },
        "id": "jI2KdijoTO4g",
        "outputId": "197d56c5-5328-4859-ac25-e73b6d994ac6"
      },
      "execution_count": null,
      "outputs": [
        {
          "output_type": "stream",
          "name": "stdout",
          "text": [
            "0 < (4096 % 10) < 6=False y es un valor de tipo <class 'bool'>\n"
          ]
        }
      ]
    },
    {
      "cell_type": "code",
      "source": [
        "##Suma de dos string. Cuando se suman dos string, se unen (Concatenación)\n",
        "'Max' + 'Min'"
      ],
      "metadata": {
        "colab": {
          "base_uri": "https://localhost:8080/",
          "height": 35
        },
        "id": "Aa2zZw7GT7K4",
        "outputId": "26c02227-65f6-4891-abf7-ff0d71c2dd77"
      },
      "execution_count": null,
      "outputs": [
        {
          "output_type": "execute_result",
          "data": {
            "text/plain": [
              "'MaxMin'"
            ],
            "application/vnd.google.colaboratory.intrinsic+json": {
              "type": "string"
            }
          },
          "metadata": {},
          "execution_count": 55
        }
      ]
    },
    {
      "cell_type": "code",
      "source": [
        "print (f\"'Max' + 'Min'={'Max' + 'Min'} y es un valor de tipo {type ('Max' + 'Min' )}\")"
      ],
      "metadata": {
        "colab": {
          "base_uri": "https://localhost:8080/"
        },
        "id": "OPGh-WK3TZOQ",
        "outputId": "a285282a-aad1-4ae4-fd5c-028056149716"
      },
      "execution_count": null,
      "outputs": [
        {
          "output_type": "stream",
          "name": "stdout",
          "text": [
            "'Max' + 'Min'=MaxMin y es un valor de tipo <class 'str'>\n"
          ]
        }
      ]
    },
    {
      "cell_type": "code",
      "source": [
        "##Error porque la función ABC y DEF no está definida\n",
        "ABC () * DEF ()"
      ],
      "metadata": {
        "colab": {
          "base_uri": "https://localhost:8080/",
          "height": 159
        },
        "id": "iDxy6QSfUO9W",
        "outputId": "09064c8c-c3b0-4df0-fcc6-25c40e63e915"
      },
      "execution_count": null,
      "outputs": [
        {
          "output_type": "error",
          "ename": "NameError",
          "evalue": "name 'ABC' is not defined",
          "traceback": [
            "\u001b[0;31m---------------------------------------------------------------------------\u001b[0m",
            "\u001b[0;31mNameError\u001b[0m                                 Traceback (most recent call last)",
            "\u001b[0;32m<ipython-input-58-e764db7bda25>\u001b[0m in \u001b[0;36m<cell line: 2>\u001b[0;34m()\u001b[0m\n\u001b[1;32m      1\u001b[0m \u001b[0;31m##Error porque la función ABC y DEF no está definida\u001b[0m\u001b[0;34m\u001b[0m\u001b[0;34m\u001b[0m\u001b[0m\n\u001b[0;32m----> 2\u001b[0;31m \u001b[0mABC\u001b[0m \u001b[0;34m(\u001b[0m\u001b[0;34m)\u001b[0m \u001b[0;34m*\u001b[0m \u001b[0mDEF\u001b[0m \u001b[0;34m(\u001b[0m\u001b[0;34m)\u001b[0m\u001b[0;34m\u001b[0m\u001b[0;34m\u001b[0m\u001b[0m\n\u001b[0m",
            "\u001b[0;31mNameError\u001b[0m: name 'ABC' is not defined"
          ]
        }
      ]
    },
    {
      "cell_type": "code",
      "source": [
        "##Se debe cerrar la comilla del número 90\n",
        "float (-int(\"7\")+int('90))"
      ],
      "metadata": {
        "colab": {
          "base_uri": "https://localhost:8080/",
          "height": 106
        },
        "id": "eKH6AACkUqYv",
        "outputId": "9015f976-74b6-4aad-f72f-b0b835a32c33"
      },
      "execution_count": null,
      "outputs": [
        {
          "output_type": "error",
          "ename": "SyntaxError",
          "evalue": "unterminated string literal (detected at line 1) (<ipython-input-62-4abfe04f27dc>, line 1)",
          "traceback": [
            "\u001b[0;36m  File \u001b[0;32m\"<ipython-input-62-4abfe04f27dc>\"\u001b[0;36m, line \u001b[0;32m1\u001b[0m\n\u001b[0;31m    float (-int(\"7\")+int('90))\u001b[0m\n\u001b[0m                         ^\u001b[0m\n\u001b[0;31mSyntaxError\u001b[0m\u001b[0;31m:\u001b[0m unterminated string literal (detected at line 1)\n"
          ]
        }
      ]
    },
    {
      "cell_type": "code",
      "source": [
        "float (-int(\"7\")+int('90'))"
      ],
      "metadata": {
        "colab": {
          "base_uri": "https://localhost:8080/"
        },
        "id": "WwI2ULv2VMRf",
        "outputId": "ac1a8750-8080-4f11-a474-bd54d775d3ae"
      },
      "execution_count": null,
      "outputs": [
        {
          "output_type": "execute_result",
          "data": {
            "text/plain": [
              "83.0"
            ]
          },
          "metadata": {},
          "execution_count": 64
        }
      ]
    },
    {
      "cell_type": "code",
      "source": [
        "##abs: función que calcula el valor absoluto\n",
        "##Ejemplo. abs(-8)=8\n",
        "##len: función que cuenta cuántos caracteres tiene la cadena.\n",
        "##Ejemplo. len (\"seis\")=4\n",
        "abs(len('seis')- len('tres'))"
      ],
      "metadata": {
        "colab": {
          "base_uri": "https://localhost:8080/"
        },
        "id": "qY8_iie0VT1u",
        "outputId": "63c43bed-5b30-4930-83be-74abd62488d2"
      },
      "execution_count": null,
      "outputs": [
        {
          "output_type": "execute_result",
          "data": {
            "text/plain": [
              "0"
            ]
          },
          "metadata": {},
          "execution_count": 67
        }
      ]
    },
    {
      "cell_type": "code",
      "source": [
        "print (f\"len ('seis')={len ('seis')} y ees un valor de tipo {type (len ('seis'))}\")"
      ],
      "metadata": {
        "colab": {
          "base_uri": "https://localhost:8080/"
        },
        "id": "MM9ldUbeV0D-",
        "outputId": "43d4a39d-fd2b-4b3c-fc4b-600c25e0be81"
      },
      "execution_count": null,
      "outputs": [
        {
          "output_type": "stream",
          "name": "stdout",
          "text": [
            "len ('seis')=4 y ees un valor de tipo <class 'int'>\n"
          ]
        }
      ]
    },
    {
      "cell_type": "code",
      "source": [
        "print (f\"abs(len('seis')- len('tres'))={abs(len('seis')- len('tres'))} y es un valor de tipo {type (abs(len('seis')- len('tres')))}\")"
      ],
      "metadata": {
        "colab": {
          "base_uri": "https://localhost:8080/"
        },
        "id": "zZ1rqDMxWILu",
        "outputId": "6d9859c9-619f-4a41-9ac1-5951c08cf424"
      },
      "execution_count": null,
      "outputs": [
        {
          "output_type": "stream",
          "name": "stdout",
          "text": [
            "abs(len('seis')- len('tres'))=0 y es un valor de tipo <class 'int'>\n"
          ]
        }
      ]
    },
    {
      "cell_type": "code",
      "source": [
        "##Cualquier número (que no sea o) al convertirse en booleano da True\n",
        "bool(1210) or bool (-3465)"
      ],
      "metadata": {
        "colab": {
          "base_uri": "https://localhost:8080/"
        },
        "id": "7nmtwz7NXfVs",
        "outputId": "a75ce3dd-e2ca-4a09-8d09-80c6b32af796"
      },
      "execution_count": null,
      "outputs": [
        {
          "output_type": "execute_result",
          "data": {
            "text/plain": [
              "True"
            ]
          },
          "metadata": {},
          "execution_count": 90
        }
      ]
    },
    {
      "cell_type": "code",
      "source": [
        "bool(1210)"
      ],
      "metadata": {
        "colab": {
          "base_uri": "https://localhost:8080/"
        },
        "id": "EsnEIoJQXrNc",
        "outputId": "e61a6e89-5394-48b3-a318-c3c04eb8dc26"
      },
      "execution_count": null,
      "outputs": [
        {
          "output_type": "execute_result",
          "data": {
            "text/plain": [
              "True"
            ]
          },
          "metadata": {},
          "execution_count": 84
        }
      ]
    },
    {
      "cell_type": "code",
      "source": [
        "bool (-3465)"
      ],
      "metadata": {
        "colab": {
          "base_uri": "https://localhost:8080/"
        },
        "id": "l-wh1JQAXsTM",
        "outputId": "3dc98d0e-a6bb-462c-e6e4-c21d892d39b0"
      },
      "execution_count": null,
      "outputs": [
        {
          "output_type": "execute_result",
          "data": {
            "text/plain": [
              "True"
            ]
          },
          "metadata": {},
          "execution_count": 89
        }
      ]
    },
    {
      "cell_type": "code",
      "source": [
        "bool (0)"
      ],
      "metadata": {
        "colab": {
          "base_uri": "https://localhost:8080/"
        },
        "id": "PfKduJe9X4H8",
        "outputId": "d7674b52-35d4-4577-b3de-e6b17979251a"
      },
      "execution_count": null,
      "outputs": [
        {
          "output_type": "execute_result",
          "data": {
            "text/plain": [
              "False"
            ]
          },
          "metadata": {},
          "execution_count": 91
        }
      ]
    },
    {
      "cell_type": "code",
      "source": [
        "float(str(int('8'*3)/3)[3])"
      ],
      "metadata": {
        "colab": {
          "base_uri": "https://localhost:8080/",
          "height": 141
        },
        "id": "HWFPyscyYif8",
        "outputId": "d5057a37-393c-448a-ce5b-e1a1aa2b0807"
      },
      "execution_count": null,
      "outputs": [
        {
          "output_type": "error",
          "ename": "ValueError",
          "evalue": "could not convert string to float: '.'",
          "traceback": [
            "\u001b[0;31m---------------------------------------------------------------------------\u001b[0m",
            "\u001b[0;31mValueError\u001b[0m                                Traceback (most recent call last)",
            "\u001b[0;32m<ipython-input-93-3f01b5c33746>\u001b[0m in \u001b[0;36m<cell line: 1>\u001b[0;34m()\u001b[0m\n\u001b[0;32m----> 1\u001b[0;31m \u001b[0mfloat\u001b[0m\u001b[0;34m(\u001b[0m\u001b[0mstr\u001b[0m\u001b[0;34m(\u001b[0m\u001b[0mint\u001b[0m\u001b[0;34m(\u001b[0m\u001b[0;34m'8'\u001b[0m\u001b[0;34m*\u001b[0m\u001b[0;36m3\u001b[0m\u001b[0;34m)\u001b[0m\u001b[0;34m/\u001b[0m\u001b[0;36m3\u001b[0m\u001b[0;34m)\u001b[0m\u001b[0;34m[\u001b[0m\u001b[0;36m3\u001b[0m\u001b[0;34m]\u001b[0m\u001b[0;34m)\u001b[0m\u001b[0;34m\u001b[0m\u001b[0;34m\u001b[0m\u001b[0m\n\u001b[0m",
            "\u001b[0;31mValueError\u001b[0m: could not convert string to float: '.'"
          ]
        }
      ]
    },
    {
      "cell_type": "code",
      "source": [
        "int('8'*3)/3"
      ],
      "metadata": {
        "colab": {
          "base_uri": "https://localhost:8080/"
        },
        "id": "uZ6KBPGpYtfL",
        "outputId": "062bef34-3877-4433-86b0-771e69dfd71f"
      },
      "execution_count": null,
      "outputs": [
        {
          "output_type": "execute_result",
          "data": {
            "text/plain": [
              "296.0"
            ]
          },
          "metadata": {},
          "execution_count": 95
        }
      ]
    },
    {
      "cell_type": "code",
      "source": [
        "#De una cadena de caracteres, estoy tomando el que está en la posición 3 (contando desde cero)\n",
        "str(int('8'*3)/3)[3]"
      ],
      "metadata": {
        "colab": {
          "base_uri": "https://localhost:8080/",
          "height": 35
        },
        "id": "9QonIYlFY0DF",
        "outputId": "8d07bd90-23d7-4b42-b01c-6ecd8fcce2e5"
      },
      "execution_count": null,
      "outputs": [
        {
          "output_type": "execute_result",
          "data": {
            "text/plain": [
              "'.'"
            ],
            "application/vnd.google.colaboratory.intrinsic+json": {
              "type": "string"
            }
          },
          "metadata": {},
          "execution_count": 98
        }
      ]
    },
    {
      "cell_type": "code",
      "source": [
        "print (f\"Vivyan García -12/08/2024\")"
      ],
      "metadata": {
        "colab": {
          "base_uri": "https://localhost:8080/"
        },
        "id": "MJuRjpJTZdSy",
        "outputId": "26a5ad19-4818-44b0-e7ce-456ba10de31a"
      },
      "execution_count": null,
      "outputs": [
        {
          "output_type": "stream",
          "name": "stdout",
          "text": [
            "Vivyan García -12/08/2024\n"
          ]
        }
      ]
    },
    {
      "cell_type": "code",
      "source": [
        "##Input es una función que te permite almacenar una respuesta relacionada con lo que está dentro del paréntesis\n",
        "a=input(\"Cuál es tu nombre?\")"
      ],
      "metadata": {
        "colab": {
          "base_uri": "https://localhost:8080/"
        },
        "id": "Ha2Qnj-UatX6",
        "outputId": "2533660a-5dd7-4442-e3e8-00d137ed73ab"
      },
      "execution_count": null,
      "outputs": [
        {
          "name": "stdout",
          "output_type": "stream",
          "text": [
            "Cuál es tu nombre?Vivyan\n"
          ]
        }
      ]
    },
    {
      "cell_type": "code",
      "source": [
        "a"
      ],
      "metadata": {
        "colab": {
          "base_uri": "https://localhost:8080/",
          "height": 35
        },
        "id": "fljdlQDCa90Z",
        "outputId": "858346f3-d900-479f-9e64-73c7067a11df"
      },
      "execution_count": null,
      "outputs": [
        {
          "output_type": "execute_result",
          "data": {
            "text/plain": [
              "'Vivyan'"
            ],
            "application/vnd.google.colaboratory.intrinsic+json": {
              "type": "string"
            }
          },
          "metadata": {},
          "execution_count": 104
        }
      ]
    },
    {
      "cell_type": "code",
      "source": [
        "print (f\"Hola {a}, Como estás?\")"
      ],
      "metadata": {
        "colab": {
          "base_uri": "https://localhost:8080/"
        },
        "id": "631XDNrJbTTl",
        "outputId": "9174826d-04ce-4f34-eb8e-c2dffd97e70c"
      },
      "execution_count": null,
      "outputs": [
        {
          "output_type": "stream",
          "name": "stdout",
          "text": [
            "Hola Vivyan, Como estás?\n"
          ]
        }
      ]
    },
    {
      "cell_type": "code",
      "source": [
        "radio = float (input(\"Ingrese el radio del círculo:\"))"
      ],
      "metadata": {
        "colab": {
          "base_uri": "https://localhost:8080/"
        },
        "id": "5kFwRXNJdwFE",
        "outputId": "028b84d7-b249-488f-f624-b4de228eab48"
      },
      "execution_count": null,
      "outputs": [
        {
          "name": "stdout",
          "output_type": "stream",
          "text": [
            "Ingrese el radio del círculo:4\n"
          ]
        }
      ]
    },
    {
      "cell_type": "code",
      "source": [
        "Diametro = 2 * radio\n",
        "Perimetro= 2 * 3.14 * radio\n",
        "Area = 3.14 * radio ** 2"
      ],
      "metadata": {
        "id": "mGrS-LnHd7H9"
      },
      "execution_count": null,
      "outputs": []
    },
    {
      "cell_type": "code",
      "source": [
        "print (f\"El círculo de radio 4 tiene un Diametro ={Diametro}, Perimetro = {Perimetro} y el Area = {Area}\")"
      ],
      "metadata": {
        "colab": {
          "base_uri": "https://localhost:8080/"
        },
        "id": "lafgoeaEejUF",
        "outputId": "83d4458f-4058-4e18-a6e4-01d61356b315"
      },
      "execution_count": null,
      "outputs": [
        {
          "output_type": "stream",
          "name": "stdout",
          "text": [
            "El círculo de radio 4 tiene un Diametro =8.0, Perimetro = 25.12 y el Area = 50.24\n"
          ]
        }
      ]
    },
    {
      "cell_type": "code",
      "source": [
        "# Solicitar 6 notas al usuario\n",
        "notas = []\n",
        "for i in range(6):\n",
        "    nota = float(input(f\"Ingrese la nota {i+1}: \"))\n",
        "    notas.append(nota)\n",
        "\n",
        "# Calcular el promedio\n",
        "promedio = sum(notas) / len(notas)\n",
        "\n",
        "# Imprimir el promedio\n",
        "print(f\"El promedio es: {promedio}\")"
      ],
      "metadata": {
        "colab": {
          "base_uri": "https://localhost:8080/"
        },
        "id": "1-aLHJpaTqWZ",
        "outputId": "df7a9e4d-aa5a-4ffb-b7dd-d7b8cacffeda"
      },
      "execution_count": null,
      "outputs": [
        {
          "output_type": "stream",
          "name": "stdout",
          "text": [
            "Ingrese la nota 1: 2.5\n",
            "Ingrese la nota 2: 3\n",
            "Ingrese la nota 3: 4.5\n",
            "Ingrese la nota 4: 2.8\n",
            "Ingrese la nota 5: 4\n",
            "Ingrese la nota 6: 5\n",
            "El promedio es: 3.6333333333333333\n"
          ]
        }
      ]
    },
    {
      "cell_type": "code",
      "source": [
        "# Solicitar un valor al usuario\n",
        "valor = input(\"Ingrese un valor: \")\n",
        "\n",
        "# Determinar el tipo de dato\n",
        "try:\n",
        "    valor_int = int(valor)\n",
        "    print(\"El tipo de dato es: int\")\n",
        "except ValueError:\n",
        "    try:\n",
        "        valor_float = float(valor)\n",
        "        print(\"El tipo de dato es: float\")\n",
        "    except ValueError:\n",
        "        if valor.lower() == 'true' or valor.lower() == 'false':\n",
        "            print(\"El tipo de dato es: bool\")\n",
        "        else:\n",
        "            print(\"El tipo de dato es: str\")"
      ],
      "metadata": {
        "colab": {
          "base_uri": "https://localhost:8080/"
        },
        "id": "J-uUXG6rW-Fo",
        "outputId": "db4f3be0-b084-4081-be44-81c8197196af"
      },
      "execution_count": null,
      "outputs": [
        {
          "output_type": "stream",
          "name": "stdout",
          "text": [
            "Ingrese un valor: hola\n",
            "El tipo de dato es: str\n"
          ]
        }
      ]
    },
    {
      "cell_type": "code",
      "source": [
        "# Resolver la ecuación\n",
        "resultado = ((5 + 3) / (3 - 2)) ** 2\n",
        "\n",
        "# Imprimir el resultado\n",
        "print(\"El resultado de la ecuación es:\", resultado)"
      ],
      "metadata": {
        "colab": {
          "base_uri": "https://localhost:8080/"
        },
        "id": "dL6kPvfxXVUV",
        "outputId": "bb9cdf15-88b8-4b46-99d5-88170b73b35b"
      },
      "execution_count": null,
      "outputs": [
        {
          "output_type": "stream",
          "name": "stdout",
          "text": [
            "El resultado de la ecuación es: 64.0\n"
          ]
        }
      ]
    },
    {
      "cell_type": "code",
      "source": [
        "# Solicitar número de horas trabajadas\n",
        "horas_trabajadas = float(input(\"Ingrese el número de horas trabajadas: \"))\n",
        "\n",
        "# Solicitar el coste por hora\n",
        "coste_por_hora = float(input(\"Ingrese el coste por hora: \"))\n",
        "\n",
        "# Calcular el coste total\n",
        "coste_total = horas_trabajadas * coste_por_hora\n",
        "\n",
        "# Imprimir el valor calculado\n",
        "print(f\"El coste total es: {coste_total:.2f}\")"
      ],
      "metadata": {
        "colab": {
          "base_uri": "https://localhost:8080/"
        },
        "id": "q50DEjSxXata",
        "outputId": "ff4677b0-1914-4619-bd44-70262a3a7d9e"
      },
      "execution_count": null,
      "outputs": [
        {
          "output_type": "stream",
          "name": "stdout",
          "text": [
            "Ingrese el número de horas trabajadas: 24\n",
            "Ingrese el coste por hora: 10000\n",
            "El coste total es: 240000.00\n"
          ]
        }
      ]
    },
    {
      "cell_type": "code",
      "source": [
        "def celsius_fahrenheit(celsius):\n",
        "    fahrenheit=(celsius*9/5)+32\n",
        "    return fahrenheit\n",
        "def celsius_kelvin(celsius):\n",
        "    kelvin=celsius+273.15\n",
        "    return kelvin\n",
        "celsius=float(input(\"Ingrese grados celsius \"))\n",
        "print(\"Los grados fahrenheit son \", celsius_fahrenheit(celsius))\n",
        "print(\"Los grados kelvin son \", celsius_kelvin(celsius))"
      ],
      "metadata": {
        "colab": {
          "base_uri": "https://localhost:8080/"
        },
        "id": "cBm6BoP8XdpI",
        "outputId": "b003f18c-d3a5-42fd-e05b-f8d898ea9061"
      },
      "execution_count": null,
      "outputs": [
        {
          "output_type": "stream",
          "name": "stdout",
          "text": [
            "Ingrese grados celsius 38\n",
            "Los grados fahrenheit son  100.4\n",
            "Los grados kelvin son  311.15\n"
          ]
        }
      ]
    },
    {
      "cell_type": "code",
      "source": [
        "# Solicitar el primer número\n",
        "num1 = int(input(\"Ingrese el primer número: \"))\n",
        "\n",
        "# Solicitar el segundo número\n",
        "num2 = int(input(\"Ingrese el segundo número: \"))\n",
        "\n",
        "# Verificar si el segundo número es mayor\n",
        "if num2 > num1:\n",
        "    print(True)\n",
        "else:\n",
        "    print(False)"
      ],
      "metadata": {
        "colab": {
          "base_uri": "https://localhost:8080/"
        },
        "id": "hQf1d_waXj5s",
        "outputId": "b5231652-dc89-4987-9d6f-4e832807a246"
      },
      "execution_count": null,
      "outputs": [
        {
          "output_type": "stream",
          "name": "stdout",
          "text": [
            "Ingrese el primer número: 2\n",
            "Ingrese el segundo número: 3\n",
            "True\n"
          ]
        }
      ]
    },
    {
      "cell_type": "code",
      "source": [
        "# Solicitar el primer número\n",
        "num1 = int(input(\"Ingrese el primer número: \"))\n",
        "\n",
        "# Solicitar el segundo número\n",
        "num2 = int(input(\"Ingrese el segundo número: \"))\n",
        "\n",
        "# Verificar si el segundo número es mayor\n",
        "if num2 < num1:\n",
        "    print(True)\n",
        "else:\n",
        "    print(False)"
      ],
      "metadata": {
        "colab": {
          "base_uri": "https://localhost:8080/"
        },
        "id": "4rNnFILMXoaJ",
        "outputId": "881f453a-3100-4897-86b2-91343e91019b"
      },
      "execution_count": null,
      "outputs": [
        {
          "output_type": "stream",
          "name": "stdout",
          "text": [
            "Ingrese el primer número: 2\n",
            "Ingrese el segundo número: 3\n",
            "False\n"
          ]
        }
      ]
    },
    {
      "cell_type": "code",
      "source": [
        "# Solicitar la distancia en metros\n",
        "distancia = float(input(\"Ingrese la distancia en metros: \"))\n",
        "\n",
        "# Solicitar la velocidad en metros/segundo\n",
        "velocidad = float(input(\"Ingrese la velocidad en metros/segundo: \"))\n",
        "\n",
        "# Calcular el tiempo que se demora en recorrer la distancia\n",
        "tiempo = distancia / velocidad\n",
        "\n",
        "# Imprimir el tiempo en segundos\n",
        "print(f\"Tiempo: {tiempo} segundos\")"
      ],
      "metadata": {
        "colab": {
          "base_uri": "https://localhost:8080/"
        },
        "id": "DYTntVaXXsSM",
        "outputId": "caad8855-a3d0-4520-ff13-733c67b979a6"
      },
      "execution_count": null,
      "outputs": [
        {
          "output_type": "stream",
          "name": "stdout",
          "text": [
            "Ingrese la distancia en metros: 20\n",
            "Ingrese la velocidad en metros/segundo: 10\n",
            "Tiempo: 2.0 segundos\n"
          ]
        }
      ]
    },
    {
      "cell_type": "code",
      "source": [
        "# Solicitar los valores de a, b y c\n",
        "a = float(input(\"Ingrese el valor de a: \"))\n",
        "b = float(input(\"Ingrese el valor de b: \"))\n",
        "c = float(input(\"Ingrese el valor de c: \"))\n",
        "\n",
        "# Calcular la expresión\n",
        "resultado = ((a + b) / c) ** 2 + ((a - b) / c) ** 2\n",
        "\n",
        "# Imprimir el resultado\n",
        "print(f\"El resultado de la expresión es: {resultado}\")"
      ],
      "metadata": {
        "colab": {
          "base_uri": "https://localhost:8080/"
        },
        "id": "9Ew0zR0kXwC3",
        "outputId": "f00e4de0-b883-4370-aed5-231a1c53b0b0"
      },
      "execution_count": null,
      "outputs": [
        {
          "output_type": "stream",
          "name": "stdout",
          "text": [
            "Ingrese el valor de a: 4\n",
            "Ingrese el valor de b: 6\n",
            "Ingrese el valor de c: 10\n",
            "El resultado de la expresión es: 1.04\n"
          ]
        }
      ]
    },
    {
      "cell_type": "code",
      "source": [
        "import math\n",
        "\n",
        "# Calcular la raíz cuadrada de un número\n",
        "numero = 16\n",
        "raiz_cuadrada = math.sqrt(numero)\n",
        "\n",
        "# Imprimir el resultado\n",
        "print(\"La raíz cuadrada de\", numero, \"es:\", raiz_cuadrada)"
      ],
      "metadata": {
        "colab": {
          "base_uri": "https://localhost:8080/"
        },
        "id": "ejSRtw0nX0V8",
        "outputId": "297a9d89-cea2-484a-c9c2-615ba5ddbb99"
      },
      "execution_count": null,
      "outputs": [
        {
          "output_type": "stream",
          "name": "stdout",
          "text": [
            "La raíz cuadrada de 16 es: 4.0\n"
          ]
        }
      ]
    },
    {
      "cell_type": "code",
      "source": [
        "import math\n",
        "\n",
        "# Solicitar los valores de los catetos al usuario\n",
        "cateto_a = float(input(\"Ingrese el valor del cateto a: \"))\n",
        "cateto_b = float(input(\"Ingrese el valor del cateto b: \"))\n",
        "\n",
        "# Calcular la hipotenusa usando el teorema de Pitágoras\n",
        "hipotenusa = math.sqrt(cateto_a**2 + cateto_b**2)\n",
        "\n",
        "# Imprimir el resultado\n",
        "print(f\"Hipotenusa = {hipotenusa}\")"
      ],
      "metadata": {
        "id": "7SbFqIU_X4sz",
        "outputId": "f66225c3-d244-4c56-eadc-53e26e7b1372",
        "colab": {
          "base_uri": "https://localhost:8080/"
        }
      },
      "execution_count": null,
      "outputs": [
        {
          "output_type": "stream",
          "name": "stdout",
          "text": [
            "Ingrese el valor del cateto a: 10\n",
            "Ingrese el valor del cateto b: 12\n",
            "Hipotenusa = 15.620499351813308\n"
          ]
        }
      ]
    },
    {
      "cell_type": "code",
      "source": [],
      "metadata": {
        "id": "9PovEGR6X7j6"
      },
      "execution_count": null,
      "outputs": []
    }
  ]
}